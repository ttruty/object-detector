{
 "cells": [
  {
   "cell_type": "markdown",
   "metadata": {},
   "source": [
    "# Object Detection\n",
    "## Finding the Pentagon Figure on the page\n",
    "### Using Python\n",
    "\n",
    "Creating and Training a model to find the Pentagon figure on the page of the MMSE Document. This goes through a bit of the code. The feature and model creation only need to be ran once. Near the bottom there is a classifier testing code run through.\n"
   ]
  },
  {
   "cell_type": "markdown",
   "metadata": {},
   "source": [
    "> Uses methods and modules with the SKlearn and SKImage libraries in python \n",
    ">\n",
    "> --- [scikit-learn 0.19.1. (2017, October). Simple and efficient tools for data mining and data analysis](http://scikit-learn.org/stable/index.html)"
   ]
  },
  {
   "cell_type": "code",
   "execution_count": 2,
   "metadata": {
    "collapsed": true
   },
   "outputs": [],
   "source": [
    "# imports\n",
    "# Import the functions to calculate feature descriptors\n",
    "from skimage.feature import local_binary_pattern\n",
    "from skimage.feature import hog\n",
    "from skimage.io import imread\n",
    "import joblib\n",
    "import cv2\n",
    "# To read file names\n",
    "import glob\n",
    "import os\n",
    "import numpy as np\n",
    "import random\n",
    "\n",
    "# Import the required sklearn modules for models\n",
    "from sklearn.linear_model import LogisticRegression\n",
    "from sklearn.decomposition import PCA\n",
    "from sklearn.neighbors import KNeighborsClassifier\n",
    "from sklearn.svm import LinearSVC\n",
    "from sklearn.svm import SVC\n",
    "from sklearn.ensemble import RandomForestClassifier, AdaBoostClassifier\n",
    "from sklearn.tree import DecisionTreeClassifier\n",
    "from sklearn.gaussian_process import GaussianProcessClassifier\n",
    "from sklearn.gaussian_process.kernels import RBF\n",
    "from sklearn.neural_network import MLPClassifier\n",
    "from sklearn.naive_bayes import GaussianNB\n",
    "from sklearn.discriminant_analysis import QuadraticDiscriminantAnalysis\n",
    "import pandas as pd\n",
    "\n",
    "import matplotlib.pyplot as plt\n",
    "from skimage import img_as_ubyte\n",
    "import warnings\n",
    "warnings.filterwarnings(\"ignore\", category=DeprecationWarning) \n",
    "\n",
    "%matplotlib inline"
   ]
  },
  {
   "cell_type": "markdown",
   "metadata": {},
   "source": [
    "Must create a correct file structure to save the features for training method"
   ]
  },
  {
   "cell_type": "code",
   "execution_count": 3,
   "metadata": {
    "collapsed": true
   },
   "outputs": [],
   "source": [
    "# file structure for feature ies\n",
    "path = os.path.join(os.getcwd(), 'training_mmse_pentagons')\n",
    "model_dir = os.path.join(path, 'models')\n",
    "\n",
    "pos_im_path = os.path.join(path, 'pos_pent')\n",
    "neg_im_path = os.path.join(path, 'neg_pent')\n",
    "pos_feat_ph = os.path.join(path, \"pos_feat_ph\")\n",
    "neg_feat_ph = os.path.join(path, \"neg_feat_ph\")"
   ]
  },
  {
   "cell_type": "markdown",
   "metadata": {},
   "source": [
    "In using the HOG detection paramaters must be set\n",
    "\n",
    "\n",
    "Parameters:\t\n",
    "image : (M, N[, C]) ndarray\n",
    "    Input image.\n",
    "\n",
    "orientations : int, optional\n",
    "    Number of orientation bins.\n",
    "\n",
    "pixels_per_cell : 2-tuple (int, int), optional\n",
    "    Size (in pixels) of a cell.\n",
    "\n",
    "cells_per_block : 2-tuple (int, int), optional\n",
    "    Number of cells in each block.\n",
    "\n",
    "block_norm : str {‘L1’, ‘L1-sqrt’, ‘L2’, ‘L2-Hys’}, optional\n",
    "    Block normalization method:"
   ]
  },
  {
   "cell_type": "code",
   "execution_count": 4,
   "metadata": {
    "collapsed": true
   },
   "outputs": [],
   "source": [
    "#parameters for HOG\n",
    "#reference: http://scikit-image.org/docs/dev/auto_examples/features_detection/plot_hog.html\n",
    "orientations = 9 # number of bins to turn image\n",
    "pixels_per_cell = (8, 8)\n",
    "cells_per_block = (3, 3)\n",
    "square_size = 128\n",
    "des_type = \"HOG\""
   ]
  },
  {
   "cell_type": "markdown",
   "metadata": {},
   "source": [
    "Next create the directory to save the features in"
   ]
  },
  {
   "cell_type": "code",
   "execution_count": 6,
   "metadata": {
    "collapsed": true
   },
   "outputs": [],
   "source": [
    " # If feature directories don't exist, create them\n",
    "if not os.path.isdir(pos_feat_ph):\n",
    "    os.makedirs(pos_feat_ph)\n",
    "\n",
    "# If feature directories don't exist, create them\n",
    "if not os.path.isdir(neg_feat_ph):\n",
    "    os.makedirs(neg_feat_ph)"
   ]
  },
  {
   "cell_type": "markdown",
   "metadata": {},
   "source": [
    "Positive image feature input for the MMSE pentagon example. These are the images for classification, and they can be filled with different images."
   ]
  },
  {
   "cell_type": "code",
   "execution_count": 12,
   "metadata": {},
   "outputs": [
    {
     "data": {
      "image/png": "[encoded data removed]",
      "text/plain": [
       "<IPython.core.display.Image object>"
      ]
     },
     "execution_count": 12,
     "metadata": {},
     "output_type": "execute_result"
    }
   ],
   "source": [
    "from IPython.display import Image\n",
    "\n",
    "sample_pos_path = os.path.join('images', 'sample_pos.png')\n",
    "Image(filename=sample_pos_path)"
   ]
  },
  {
   "cell_type": "markdown",
   "metadata": {},
   "source": [
    "Negative image feature input for MMSE example"
   ]
  },
  {
   "cell_type": "code",
   "execution_count": 13,
   "metadata": {},
   "outputs": [
    {
     "data": {
      "image/png": "[encoded data removed]",
      "text/plain": [
       "<IPython.core.display.Image object>"
      ]
     },
     "execution_count": 13,
     "metadata": {},
     "output_type": "execute_result"
    }
   ],
   "source": [
    "from IPython.display import Image\n",
    "sample_neg_path = os.path.join('images', 'sample_neg.png')\n",
    "Image(filename=sample_neg_path) "
   ]
  },
  {
   "attachments": {},
   "cell_type": "markdown",
   "metadata": {},
   "source": [
    "For each image path in the positive directory we first read it into the im variable and convert it to graysale\n",
    "Then it is resized to the \"square_size\" variable defined above\n",
    "Finally create the HOG descriptor for the image. A 1D (flattened) array is returned.\n",
    "\n",
    "Only needs to be run once to create the features"
   ]
  },
  {
   "cell_type": "code",
   "execution_count": 9,
   "metadata": {},
   "outputs": [],
   "source": [
    "def extract_features(image_path, feature_path, square_size=square_size, orientations=orientations, pixels_per_cell=pixels_per_cell, cells_per_block=cells_per_block):\n",
    "    print(\"Calculating the descriptors for the positive samples and saving them\")\n",
    "    file_count = 0\n",
    "    for file in glob.glob(os.path.join(image_path, \"*\")):\n",
    "        im = cv2.imread(file, cv2.IMREAD_GRAYSCALE) #Reads image in and convers to grayscale\n",
    "        im = cv2.resize(im, (square_size,square_size))\n",
    "        if des_type == \"HOG\":\n",
    "            fd, _ = hog(im, orientations, pixels_per_cell, cells_per_block, visualize = True, transform_sqrt=True)\n",
    "            \n",
    "        fd_name = os.path.split(file)[1].split(\".\")[0] + \".feat\"\n",
    "        fd_path = os.path.join(feature_path, fd_name)\n",
    "        joblib.dump(fd, fd_path) #dumps feature detection in the save path\n",
    "        file_count += 1\n",
    "    print(\"Processed {} images for positive features\".format(file_count))\n",
    "    print(\"Positive features saved in {}\".format(feature_path))"
   ]
  },
  {
   "cell_type": "code",
   "execution_count": 10,
   "metadata": {},
   "outputs": [
    {
     "name": "stdout",
     "output_type": "stream",
     "text": [
      "Calculating the descriptors for the positive samples and saving them\n",
      "Processed 1056 images for positive features\n",
      "Positive features saved in /Users/awshift/Documents/general_coding/object-detector/training_mmse_pentagons/pos_feat_ph\n"
     ]
    }
   ],
   "source": [
    "#clear out the feature directories\n",
    "for file in glob.glob(os.path.join(pos_feat_ph, \"*\")):\n",
    "    os.remove(file)\n",
    "for file in glob.glob(os.path.join(neg_feat_ph, \"*\")):\n",
    "    os.remove(file)\n",
    "\n",
    "extract_features(pos_im_path, pos_feat_ph, square_size, orientations, pixels_per_cell, cells_per_block)"
   ]
  },
  {
   "cell_type": "code",
   "execution_count": 11,
   "metadata": {},
   "outputs": [
    {
     "name": "stdout",
     "output_type": "stream",
     "text": [
      "Calculating the descriptors for the positive samples and saving them\n",
      "Processed 1006 images for positive features\n",
      "Positive features saved in /Users/awshift/Documents/general_coding/object-detector/training_mmse_pentagons/neg_feat_ph\n"
     ]
    }
   ],
   "source": [
    "extract_features(neg_im_path, neg_feat_ph, square_size, orientations, pixels_per_cell, cells_per_block)"
   ]
  },
  {
   "cell_type": "markdown",
   "metadata": {},
   "source": [
    "# Train Classifier\n",
    "## Training with linear SVM\n",
    "\n",
    "This trains the classifier, only needs to run once in order to create the model."
   ]
  },
  {
   "cell_type": "code",
   "execution_count": 12,
   "metadata": {},
   "outputs": [
    {
     "name": "stdout",
     "output_type": "stream",
     "text": [
      "Training a KNN Classifier\n",
      "2062 2062\n",
      "Classifier saved to /Users/awshift/Documents/general_coding/object-detector/training_mmse_pentagons/models/KNN.model\n",
      "Training a SVM Classifier\n",
      "2062 2062\n",
      "Classifier saved to /Users/awshift/Documents/general_coding/object-detector/training_mmse_pentagons/models/SVM.model\n"
     ]
    }
   ],
   "source": [
    "\n",
    "#clear our the model directory\n",
    "for file in glob.glob(os.path.join(path, \"models\", \"*\")):\n",
    "    os.remove(file)\n",
    "\n",
    "pos_feat_path =  pos_feat_ph\n",
    "neg_feat_path =  neg_feat_ph\n",
    "\n",
    "# Classifiers supported\n",
    "\n",
    "\n",
    "fds = []\n",
    "labels = []\n",
    "# Load the positive features\n",
    "for feat_path in glob.glob(os.path.join(pos_feat_path,\"*.feat\")):\n",
    "    fd = joblib.load(feat_path)\n",
    "    fds.append(fd)\n",
    "    labels.append(1)\n",
    "\n",
    "# Load the negative features\n",
    "for feat_path in glob.glob(os.path.join(neg_feat_path,\"*.feat\")):\n",
    "    fd = joblib.load(feat_path)\n",
    "    fds.append(fd)\n",
    "    labels.append(0)\n",
    "\n",
    "model_path =  os.path.join(path, \"models\", \"KNN.model\") # where to save the model\n",
    "clf = KNeighborsClassifier()\n",
    "print(\"Training a KNN Classifier\")\n",
    "print(len(fds), len(labels))\n",
    "clf.fit(fds, labels)\n",
    "# If feature directories don't exist, create them\n",
    "if not os.path.isdir(os.path.split(model_path)[0]):\n",
    "    os.makedirs(os.path.split(model_path)[0])\n",
    "joblib.dump(clf, model_path)\n",
    "print(\"Classifier saved to {}\".format(model_path))\n",
    "\n",
    "model_path =  os.path.join(path, \"models\", \"SVM.model\") # where to save the model\n",
    "clf = LinearSVC()\n",
    "print(\"Training a SVM Classifier\")\n",
    "print(len(fds), len(labels))\n",
    "clf.fit(fds, labels)\n",
    "# If feature directories don't exist, create them\n",
    "if not os.path.isdir(os.path.split(model_path)[0]):\n",
    "    os.makedirs(os.path.split(model_path)[0])\n",
    "joblib.dump(clf, model_path)\n",
    "print(\"Classifier saved to {}\".format(model_path))\n",
    "\n"
   ]
  },
  {
   "cell_type": "markdown",
   "metadata": {},
   "source": [
    "# Testing Classifiers\n",
    "\n",
    "Can use this to test different classifier models with the features. "
   ]
  },
  {
   "cell_type": "code",
   "execution_count": 13,
   "metadata": {
    "collapsed": true
   },
   "outputs": [],
   "source": [
    "def test_classifiers(data, lables, clf):\n",
    "    \"\"\"\n",
    "    create training objects\n",
    "    \"\"\"\n",
    "    data = np.array(data)\n",
    "    print(\"Total object(n) = \" + str(len(data)))\n",
    "    is_train = np.random.uniform(0, 1, len(data)) <= 0.8 # split randomly: train with 80%,other 20% for testing classifier\n",
    "    y = np.where(np.array(labels)== 1, 1, 0)\n",
    "\n",
    "    #set training and test data\n",
    "    train_x, train_y = data[is_train], y[is_train]\n",
    "    test_x, test_y = data[is_train==False], y[is_train==False]\n",
    "\n",
    "\n",
    "    pca = PCA(n_components=5, svd_solver='randomized')\n",
    "    print(\"Trainng set n = \" + str(len(data[is_train])))\n",
    "    print(\"Testing set n = \" + str(len(data[is_train==False])))\n",
    "    train_x = pca.fit_transform(train_x)\n",
    "    test_x = pca.transform(test_x)\n",
    "    clf.fit(train_x, train_y)\n",
    "    df = pd.crosstab(test_y, clf.predict(test_x), rownames=[\"Actual\"], colnames=[\"Predicted\"])\n",
    "    score = clf.score(test_x, test_y)\n",
    "    print(df)\n",
    "    print(\"Score: \" + str(score))\n",
    "    print(\"\")"
   ]
  },
  {
   "cell_type": "code",
   "execution_count": 14,
   "metadata": {},
   "outputs": [
    {
     "name": "stdout",
     "output_type": "stream",
     "text": [
      "Total object(n) = 2062\n",
      "Trainng set n = 1647\n",
      "Testing set n = 415\n",
      "Predicted    0    1\n",
      "Actual             \n",
      "0          194   13\n",
      "1           14  194\n",
      "Score: 0.9349397590361446\n",
      "\n"
     ]
    }
   ],
   "source": [
    "test_classifiers(fds, labels, clf)"
   ]
  },
  {
   "cell_type": "code",
   "execution_count": 15,
   "metadata": {},
   "outputs": [],
   "source": [
    "def make_model(model_type):\n",
    "    model_name = model_type + \".model\"\n",
    "    model_path =  os.path.join(path, \"models\", model_name)\n",
    "    return model_path\n",
    "# Classifiers supported\n",
    "\n",
    "\n",
    "# fds = []\n",
    "# labels = []\n",
    "# # Load the positive features\n",
    "# for feat_path in glob.glob(os.path.join(pos_feat_ph,\"*.feat\")):\n",
    "#     fd = joblib.load(feat_path)\n",
    "#     fds.append(fd)\n",
    "#     labels.append(1)\n",
    "\n",
    "# # Load the negative features\n",
    "# for feat_path in glob.glob(os.path.join(neg_feat_ph,\"*.feat\")):\n",
    "#     fd = joblib.load(feat_path)\n",
    "#     fds.append(fd)\n",
    "#     labels.append(0)\n",
    "\n",
    "    \n",
    "# ## TO actually create the models, remove the comments on joblib.dump    \n",
    "# clf_type = \"LIN_SVM\"\n",
    "# if clf_type == \"LIN_SVM\":\n",
    "#     clf = LinearSVC()\n",
    "#     print(\"Testing Linear SVM Classifier\")\n",
    "#     clf.fit(fds, labels)\n",
    "#     # If feature directories don't exist, create them\n",
    "#     model_path = make_model(clf_type)\n",
    "#     joblib.dump(clf, model_path)\n",
    "#     print(\"Classifier saved to {}\".format(model_path))\n",
    "    \n",
    "#     test_classifiers(fds, labels, clf)\n",
    "    \n",
    "\n",
    "# clf_type = \"KNN\"\n",
    "# if clf_type == \"KNN\":\n",
    "#     clf = KNeighborsClassifier()\n",
    "#     print(\"Testing KNN Classifier\")\n",
    "#     clf.fit(fds, labels)\n",
    "#     # If feature directories don't exist, create them\n",
    "#     model_path = make_model(clf_type)\n",
    "#     joblib.dump(clf, model_path)\n",
    "#     print(\"Classifier saved to {}\".format(model_path))\n",
    "    \n",
    "#     test_classifiers(fds, labels, clf)\n",
    "\n",
    "# clf_type = \"RandomForest\"\n",
    "# if clf_type == \"RandomForest\":\n",
    "#     clf = RandomForestClassifier(n_jobs=2)\n",
    "#     print(\"Testing Random Forest Classifier\")\n",
    "#     clf.fit(fds, labels)\n",
    "#     # If feature directories don't exist, create them\n",
    "#     model_path = make_model(clf_type)\n",
    "#     joblib.dump(clf, model_path)\n",
    "#     print(\"Classifier saved to {}\".format(model_path))\n",
    "    \n",
    "#     test_classifiers(fds, labels, clf)\n",
    "\n",
    "# clf_type = \"DecisionTreeCLassifier\"\n",
    "# if clf_type == \"DecisionTreeCLassifier\":\n",
    "#     clf = DecisionTreeClassifier(random_state=0)\n",
    "#     print(\"Testing Decision Tree Classifier\")\n",
    "#     clf.fit(fds, labels)\n",
    "#     # If feature directories don't exist, create them\n",
    "#     model_path = make_model(clf_type)\n",
    "#     joblib.dump(clf, model_path)\n",
    "#     print(\"Classifier saved to {}\".format(model_path))\n",
    "    \n",
    "#     test_classifiers(fds, labels, clf)\n",
    "\n",
    "    \n",
    "# clf_type = \"GaussianProcessClassifier\"\n",
    "# if clf_type == \"GaussianProcessClassifier\":\n",
    "#     #kernel = 1.0 * RBF([1.0, 1.0])  # for GPC\n",
    "#     clf = GaussianProcessClassifier()\n",
    "#     print(\"Testing Gaussian Process Classifier\")\n",
    "#     clf.fit(fds, labels)\n",
    "#     # If feature directories don't exist, create them\n",
    "#     model_path = make_model(clf_type)\n",
    "#     joblib.dump(clf, model_path)\n",
    "#     print(\"Classifier saved to {}\".format(model_path))\n",
    "    \n",
    "#     test_classifiers(fds, labels, clf)\n",
    "\n",
    "\n",
    "# clf_type = \"MLPClassifier\"\n",
    "# if clf_type == \"MLPClassifier\":\n",
    "#     #kernel = 1.0 * RBF([1.0, 1.0])  # for GPC\n",
    "#     clf = MLPClassifier(alpha=1)\n",
    "#     print(\"Testing MLPClassifier Classifier\")\n",
    "#     clf.fit(fds, labels)\n",
    "#     # If feature directories don't exist, create them\n",
    "#     model_path = make_model(clf_type)\n",
    "#     joblib.dump(clf, model_path)\n",
    "#     print(\"Classifier saved to {}\".format(model_path))\n",
    "    \n",
    "#     test_classifiers(fds, labels, clf)\n",
    "\n",
    "\n",
    "# clf_type = \"SVC\"\n",
    "# if clf_type == \"SVC\":\n",
    "#     #kernel = 1.0 * RBF([1.0, 1.0])  # for GPC\n",
    "#     clf = SVC()\n",
    "#     print(\"Testing SVC Classifier\")\n",
    "#     clf.fit(fds, labels)\n",
    "#     # If feature directories don't exist, create them\n",
    "#     model_path = make_model(clf_type)\n",
    "#     joblib.dump(clf, model_path)\n",
    "#     print(\"Classifier saved to {}\".format(model_path))\n",
    "    \n",
    "#     test_classifiers(fds, labels, clf)\n",
    "\n",
    "\n",
    "# clf_type = \"AdaBoost\"\n",
    "# if clf_type == \"AdaBoost\":\n",
    "#     #kernel = 1.0 * RBF([1.0, 1.0])  # for GPC\n",
    "#     clf = AdaBoostClassifier()\n",
    "#     print(\"Testing AdaBoost Classifier\")\n",
    "#     clf.fit(fds, labels)\n",
    "#     # If feature directories don't exist, create them\n",
    "#     model_path = make_model(clf_type)\n",
    "#     joblib.dump(clf, model_path)\n",
    "#     print(\"Classifier saved to {}\".format(model_path))\n",
    "    \n",
    "#     test_classifiers(fds, labels, clf)\n",
    "\n",
    "\n",
    "# clf_type = \"GaussianNB\"\n",
    "# if clf_type == \"GaussianNB\":\n",
    "#     #kernel = 1.0 * RBF([1.0, 1.0])  # for GPC\n",
    "#     clf = GaussianNB()\n",
    "#     print(\"Testing GaussianNB Classifier\")\n",
    "#     clf.fit(fds, labels)\n",
    "#     # If feature directories don't exist, create them\n",
    "#     model_path = make_model(clf_type)\n",
    "#     joblib.dump(clf, model_path)\n",
    "#     print(\"Classifier saved to {}\".format(model_path))\n",
    "    \n",
    "#     test_classifiers(fds, labels, clf)\n",
    "\n",
    "\n",
    "# clf_type = \"QuadraticDiscriminantAnalysis\"\n",
    "# if clf_type == \"QuadraticDiscriminantAnalysis\":\n",
    "#     #kernel = 1.0 * RBF([1.0, 1.0])  # for GPC\n",
    "#     clf = QuadraticDiscriminantAnalysis()\n",
    "#     print(\"Testing QuadraticDiscriminantAnalysis Classifier\")\n",
    "#     clf.fit(fds, labels)\n",
    "#     # If feature directories don't exist, create them\n",
    "#     model_path = make_model(clf_type)\n",
    "#     joblib.dump(clf, model_path)\n",
    "#     print(\"Classifier saved to {}\".format(model_path))\n",
    "    \n",
    "#     test_classifiers(fds, labels, clf)\n",
    "\n"
   ]
  },
  {
   "cell_type": "markdown",
   "metadata": {},
   "source": [
    "## EXAMPLE WITH SAMPLE MMSE PAGES\n"
   ]
  },
  {
   "cell_type": "markdown",
   "metadata": {},
   "source": [
    "## Walk the path and pull a random MMSE scanned page\n",
    "Print filename and show image"
   ]
  },
  {
   "cell_type": "code",
   "execution_count": 7,
   "metadata": {},
   "outputs": [
    {
     "data": {
      "image/png": "[encoded data removed]",
      "text/plain": [
       "<Figure size 720x640 with 1 Axes>"
      ]
     },
     "metadata": {},
     "output_type": "display_data"
    }
   ],
   "source": [
    "testing_path = os.path.join(path, r'pent_bins', r'pos_score_dir')\n",
    "model_path =  os.path.join(\"models\", \"SVM.model\")\n",
    "\n",
    "# get 10 random files from the testing path\n",
    "test_files = random.sample([x for x in os.listdir(testing_path) if os.path.isfile(os.path.join(testing_path, x))], k=5)\n",
    "file = random.choice([x for x in os.listdir(testing_path) if os.path.isfile(os.path.join(testing_path, x))])\n",
    "test_file = os.path.join(testing_path, file)\n",
    "im = cv2.imread(test_file, cv2.IMREAD_GRAYSCALE)\n",
    "fig=plt.figure(figsize=(9, 8), dpi= 80, facecolor='w', edgecolor='k')\n",
    "plt.axis('off')\n",
    "plt.imshow(im,cmap='gray')\n",
    "plt.show()"
   ]
  },
  {
   "cell_type": "markdown",
   "metadata": {},
   "source": [
    "## Find the all the contours in the image using the cv2.find contours method and bound\n",
    "http://docs.opencv.org/trunk/d3/dc0/group__imgproc__shape.html#ga17ed9f5d79ae97bd4c7cf18403e1689a"
   ]
  },
  {
   "cell_type": "code",
   "execution_count": 8,
   "metadata": {},
   "outputs": [
    {
     "data": {
      "image/png": "[encoded data removed]",
      "text/plain": [
       "<Figure size 720x640 with 1 Axes>"
      ]
     },
     "metadata": {},
     "output_type": "display_data"
    }
   ],
   "source": [
    "clone = im.copy() #clone image\n",
    "color_im = cv2.cvtColor(clone,cv2.COLOR_GRAY2BGR) \n",
    "#preprocessing of image applying gaussianblur and thresholding OTSU\n",
    "blur = cv2.GaussianBlur(clone,(5,5),0) \n",
    "ret3,th3 = cv2.threshold(blur,0,255,cv2.THRESH_BINARY+cv2.THRESH_OTSU)\n",
    "\n",
    "#preprocessing of image applying canny edge detection and dialtion to get all contours\n",
    "edges = cv2.Canny(th3,0,255,apertureSize = 5) # Canny image \n",
    "kernel = cv2.getStructuringElement(cv2.MORPH_CROSS, (3, 3)) # create the kernle\n",
    "edges = cv2.dilate(edges, kernel, iterations=5)\n",
    "\n",
    "\n",
    "contours, hierarchy = cv2.findContours(edges,cv2.RETR_TREE,cv2.CHAIN_APPROX_NONE) # find each contour\n",
    "cv2.drawContours(color_im, contours, -1, (255,255,0), 3) #draw all contours\n",
    "\n",
    "img = cv2.cvtColor(clone,cv2.COLOR_GRAY2BGR) \n",
    "\n",
    "for cnt in contours:\n",
    "        # get the perimeter circularity of the contours\n",
    "        hull = cv2.convexHull(cnt)\n",
    "        area = cv2.contourArea(hull)\n",
    "        perimeter = cv2.arcLength(hull,True)\n",
    "        approx = cv2.approxPolyDP(cnt,0.01*cv2.arcLength(cnt,True),True)\n",
    "        #cv2.drawContours(clone, cnt, -1, (0,255,255), 3)\n",
    "        if perimeter != 0:\n",
    "            x,y,w,h = cv2.boundingRect(cnt)\n",
    "            cv2.rectangle(img,(x,y),(x+w,y+h),(0,255,0),2)   \n",
    "#img = cv2.cvtColor(clone, cv2.COLOR_BGR2RGB)\n",
    "fig=plt.figure(figsize=(9, 8), dpi= 80, facecolor='w', edgecolor='k')\n",
    "plt.imshow(img)\n",
    "plt.axis('off')\n",
    "plt.show()"
   ]
  },
  {
   "cell_type": "code",
   "execution_count": 9,
   "metadata": {
    "collapsed": true
   },
   "outputs": [],
   "source": [
    "def detection(img, model_path):\n",
    "    '''\n",
    "    The detections methond using the HOG SVM algorithm\n",
    "    '''\n",
    "    clf = joblib.load(model_path) #prediciton method using SVM\n",
    "    kernel = np.ones((5,5),np.uint8)\n",
    "    opening = cv2.morphologyEx(img, cv2.MORPH_OPEN, kernel)\n",
    "    im_reshape = cv2.resize(opening, (square_size,square_size)) # reduces noise on image\n",
    "    fd, d = hog(im_reshape, orientations, pixels_per_cell, cells_per_block, visualize = True, transform_sqrt=True)    \n",
    "    pred = clf.predict(fd.reshape(1,-1))\n",
    "    # print(clf.predict_proba(fd.reshape(1,-1)))\n",
    "    #if pred == 1:\n",
    "    #    return clf.decision_function(fd)\n",
    "    #else:\n",
    "    #    return 0\n",
    "    return pred\n",
    "    "
   ]
  },
  {
   "cell_type": "code",
   "execution_count": 30,
   "metadata": {},
   "outputs": [],
   "source": [
    "# detection_threshold = 1 # change this to change accepted detection High is above 1.5... Low is 0.5\n",
    "\n",
    "\n",
    "# models = os.path.join(path, 'models')\n",
    "# model_list = os.listdir(models)\n",
    "# for model in model_list:\n",
    "#     model_path = os.path.join(models, model)\n",
    "#     print(model)\n",
    "    \n",
    "#     img = cv2.cvtColor(clone,cv2.COLOR_GRAY2BGR) \n",
    "#     found_dets = []\n",
    "\n",
    "#     for cnt in contours:\n",
    "#         # get the perimeter circularity of the contours\n",
    "#         hull = cv2.convexHull(cnt)\n",
    "#         area = cv2.contourArea(hull)\n",
    "#         perimeter = cv2.arcLength(hull,True)\n",
    "#         approx = cv2.approxPolyDP(cnt,0.01*cv2.arcLength(cnt,True),True)\n",
    "#         #cv2.drawContours(clone, cnt, -1, (0,255,255), 3)\n",
    "#         if perimeter != 0:\n",
    "#             x,y,w,h = cv2.boundingRect(cnt)\n",
    "#             cv2.rectangle(img,(x,y),(x+w,y+h),(0,255,0),2)\n",
    "#             if (h*w) > 200: # minimum area of the contour bounding box\n",
    "#                 feature = clone[y:y + h, x:x + w]\n",
    "#                 cd = detection(feature, model_path)\n",
    "#                 # print('detection at', x,y, 'detection score:', cd)\n",
    "#                 if (cd==1): #threshold for acceptance for HOG\n",
    "#                     cv2.rectangle(img,(x,y),(x+w,y+h),(255,0,0),2)\n",
    "#                     found_dets.append((x, y, cd, w, h))\n",
    "#     #img = cv2.cvtColor(clone, cv2.COLOR_BGR2RGB)\n",
    "#     plt.imshow(img)\n",
    "#     plt.axis('off')\n",
    "#     plt.show()\n"
   ]
  },
  {
   "cell_type": "code",
   "execution_count": 11,
   "metadata": {},
   "outputs": [
    {
     "data": {
      "image/png": "[encoded data removed]",
      "text/plain": [
       "<Figure size 640x480 with 1 Axes>"
      ]
     },
     "metadata": {},
     "output_type": "display_data"
    },
    {
     "data": {
      "image/png": "[encoded data removed]",
      "text/plain": [
       "<Figure size 640x480 with 1 Axes>"
      ]
     },
     "metadata": {},
     "output_type": "display_data"
    },
    {
     "data": {
      "image/png": "[encoded data removed]",
      "text/plain": [
       "<Figure size 640x480 with 1 Axes>"
      ]
     },
     "metadata": {},
     "output_type": "display_data"
    },
    {
     "data": {
      "image/png": "[encoded data removed]",
      "text/plain": [
       "<Figure size 640x480 with 1 Axes>"
      ]
     },
     "metadata": {},
     "output_type": "display_data"
    }
   ],
   "source": [
    "model_path = os.path.join(model_dir, 'SVM.model')\n",
    "for f in test_files:\n",
    "    test_file = os.path.join(testing_path, f)\n",
    "    im = cv2.imread(test_file)\n",
    "    grayImage = cv2.cvtColor(im, cv2.COLOR_BGR2GRAY)\n",
    "\n",
    "\n",
    "\n",
    "    clone = im.copy() #clone image\n",
    "    color_im = im.copy()\n",
    "    #preprocessing of image applying gaussianblur and thresholding OTSU\n",
    "    blur = cv2.GaussianBlur(grayImage,(5,5),0) \n",
    "    ret3,th3 = cv2.threshold(grayImage,0,255,cv2.THRESH_BINARY+cv2.THRESH_OTSU)\n",
    "\n",
    "    #preprocessing of image applying canny edge detection and dialtion to get all contours\n",
    "    edges = cv2.Canny(th3,0,255,apertureSize = 5) # Canny image \n",
    "    kernel = cv2.getStructuringElement(cv2.MORPH_CROSS, (3, 3)) # create the kernle\n",
    "    edges = cv2.dilate(edges, kernel, iterations=5)\n",
    "\n",
    "\n",
    "    contours, hierarchy = cv2.findContours(edges,cv2.RETR_TREE ,cv2.CHAIN_APPROX_NONE) # find each contour\n",
    "    cv2.drawContours(color_im, contours, -1, (255,255,0), 3) #draw all contours\n",
    "    \n",
    "    img = im.copy() #clone image\n",
    "\n",
    "    for cnt in contours:\n",
    "            # get the perimeter circularity of the contours\n",
    "            hull = cv2.convexHull(cnt)\n",
    "            area = cv2.contourArea(hull)\n",
    "            perimeter = cv2.arcLength(hull,True)\n",
    "            approx = cv2.approxPolyDP(cnt,0.01*cv2.arcLength(cnt,True),True)\n",
    "            #cv2.drawContours(clone, cnt, -1, (0,255,255), 3)\n",
    "            if perimeter != 0:\n",
    "                x,y,w,h = cv2.boundingRect(cnt)\n",
    "                cv2.rectangle(img,(x,y),(x+w,y+h),(0,255,0),2)   \n",
    "\n",
    "    \n",
    "    img = im.copy() #clone image\n",
    "    found_dets = []\n",
    "\n",
    "    for cnt in contours:\n",
    "        # get the perimeter circularity of the contours\n",
    "        hull = cv2.convexHull(cnt)\n",
    "        area = cv2.contourArea(hull)\n",
    "        perimeter = cv2.arcLength(hull,True)\n",
    "        approx = cv2.approxPolyDP(cnt,0.01*cv2.arcLength(cnt,True),True)\n",
    "        #cv2.drawContours(clone, cnt, -1, (0,255,255), 3)\n",
    "        if perimeter != 0:\n",
    "            x,y,w,h = cv2.boundingRect(cnt)\n",
    "            cv2.rectangle(img,(x,y),(x+w,y+h),(0,255,0),2)\n",
    "            if (h*w) > 200: # minimum area of the contour bounding box\n",
    "                feature = grayImage[y:y + h, x:x + w]\n",
    "                cd = detection(feature, model_path)\n",
    "                # print('detection at', x,y, 'detection score:', cd)\n",
    "                if (cd==1): #threshold for acceptance for HOG\n",
    "                    cv2.rectangle(img,(x,y),(x+w,y+h),(255,0,0),2)\n",
    "                    found_dets.append((x, y, cd, w, h))\n",
    "    #img = cv2.cvtColor(clone, cv2.COLOR_BGR2RGB)\n",
    "    plt.imshow(img)\n",
    "    plt.axis('off')\n",
    "    plt.show()\n"
   ]
  }
 ],
 "metadata": {
  "kernelspec": {
   "display_name": ".venv",
   "language": "python",
   "name": "python3"
  },
  "language_info": {
   "codemirror_mode": {
    "name": "ipython",
    "version": 3
   },
   "file_extension": ".py",
   "mimetype": "text/x-python",
   "name": "python",
   "nbconvert_exporter": "python",
   "pygments_lexer": "ipython3",
   "version": "3.9.12"
  },
  "vscode": {
   "interpreter": {
    "hash": "9aa5254936e5c11bd3f3b80bd2e76b6d6473abba5dfc26446b19ae9acff7c216"
   }
  }
 },
 "nbformat": 4,
 "nbformat_minor": 2
}
