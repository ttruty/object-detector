{
 "cells": [
  {
   "cell_type": "markdown",
   "metadata": {},
   "source": [
    "# Object Detection\n",
    "## Finding the Pentagon Figure on the page\n",
    "### Using Python\n",
    "\n",
    "Creating and Training a model to find the Pentagon figure on the page of the MMSE Document\n"
   ]
  },
  {
   "cell_type": "markdown",
   "metadata": {},
   "source": [
    "> Uses methods and modules with the SKlearn and SKImage libraries in python \n",
    ">\n",
    "> --- [scikit-learn 0.19.1. (2017, October). Simple and efficient tools for data mining and data analysis](http://scikit-learn.org/stable/index.html)"
   ]
  },
  {
   "cell_type": "code",
   "execution_count": null,
   "metadata": {
    "collapsed": true
   },
   "outputs": [],
   "source": [
    "# imports\n",
    "# Import the functions to calculate feature descriptors\n",
    "from skimage.feature import local_binary_pattern\n",
    "from skimage.feature import hog\n",
    "from skimage.io import imread\n",
    "from sklearn.externals import joblib\n",
    "import cv2\n",
    "# To read file names\n",
    "import glob\n",
    "import os\n",
    "import numpy as np"
   ]
  },
  {
   "cell_type": "markdown",
   "metadata": {},
   "source": [
    "Must create a correct file structure to save the features for training method"
   ]
  },
  {
   "cell_type": "code",
   "execution_count": null,
   "metadata": {
    "collapsed": true
   },
   "outputs": [],
   "source": [
    "# file structure for feature ies\n",
    "path = r'C:\\Users\\KinectProcessing\\Documents\\DigiPen Studies\\training_mmse_pentagons' #change to the base dir for files\n",
    "pos_im_path = os.path.join(path, 'pos_pent')\n",
    "neg_im_path = os.path.join(path, 'neg_pent')\n",
    "pos_feat_ph = os.path.join(path, \"pos_feat_ph\")\n",
    "neg_feat_ph = os.path.join(path, \"neg_feat_ph\")"
   ]
  },
  {
   "cell_type": "markdown",
   "metadata": {},
   "source": [
    "In using the HOG detection paramaters must be set\n",
    "\n",
    "\n",
    "Parameters:\t\n",
    "image : (M, N[, C]) ndarray\n",
    "    Input image.\n",
    "\n",
    "orientations : int, optional\n",
    "    Number of orientation bins.\n",
    "\n",
    "pixels_per_cell : 2-tuple (int, int), optional\n",
    "    Size (in pixels) of a cell.\n",
    "\n",
    "cells_per_block : 2-tuple (int, int), optional\n",
    "    Number of cells in each block.\n",
    "\n",
    "block_norm : str {‘L1’, ‘L1-sqrt’, ‘L2’, ‘L2-Hys’}, optional\n",
    "    Block normalization method:"
   ]
  },
  {
   "cell_type": "code",
   "execution_count": null,
   "metadata": {
    "collapsed": true
   },
   "outputs": [],
   "source": [
    "#parameters for HOG\n",
    "#reference: http://scikit-image.org/docs/dev/auto_examples/features_detection/plot_hog.html\n",
    "orientations = 9\n",
    "pixels_per_cell = (8, 8)\n",
    "cells_per_block = (3, 3)\n",
    "des_type = \"HOG\""
   ]
  },
  {
   "cell_type": "markdown",
   "metadata": {},
   "source": [
    "Next create the directory to save the features in"
   ]
  },
  {
   "cell_type": "code",
   "execution_count": null,
   "metadata": {
    "collapsed": true
   },
   "outputs": [],
   "source": [
    " # If feature directories don't exist, create them\n",
    "if not os.path.isdir(pos_feat_ph):\n",
    "    os.makedirs(pos_feat_ph)\n",
    "\n",
    "# If feature directories don't exist, create them\n",
    "if not os.path.isdir(neg_feat_ph):\n",
    "    os.makedirs(neg_feat_ph)"
   ]
  },
  {
   "cell_type": "markdown",
   "metadata": {},
   "source": [
    "Positive image feature input for the MMSE pentagon example"
   ]
  },
  {
   "cell_type": "code",
   "execution_count": null,
   "metadata": {},
   "outputs": [],
   "source": [
    "from IPython.display import Image\n",
    "Image(filename=r'C:\\Users\\KinectProcessing\\Documents\\DigiPen Studies\\training_mmse_pentagons\\pos_pent\\EXTRACTED_PENT-00009121  01-31-13  FU3img-9.png') "
   ]
  },
  {
   "cell_type": "markdown",
   "metadata": {},
   "source": [
    "Negative image feature input for MMSE example"
   ]
  },
  {
   "cell_type": "code",
   "execution_count": null,
   "metadata": {
    "collapsed": true
   },
   "outputs": [],
   "source": [
    "from IPython.display import Image\n",
    "Image(filename=r'C:\\Users\\KinectProcessing\\Documents\\DigiPen Studies\\training_mmse_pentagons\\pos_pent\\EXTRACTED_PENT-00987978  FU4  10-21-09img-11.png') "
   ]
  },
  {
   "cell_type": "markdown",
   "metadata": {},
   "source": [
    "For each image path in the positive directory we first read it into the im variable and convert it to graysale\n",
    "Then it is resized to 128x128 image\n",
    "Finally create the HOG descriptor for the image. A 1D (flattened) array is returned."
   ]
  },
  {
   "cell_type": "code",
   "execution_count": null,
   "metadata": {},
   "outputs": [],
   "source": [
    "print(\"Calculating the descriptors for the positive samples and saving them\")\n",
    "for im_path in glob.glob(os.path.join(pos_im_path, \"*\")):\n",
    "    im = cv2.imread(im_path, cv2.IMREAD_GRAYSCALE) #Reads image in and convers to grayscale\n",
    "    im = cv2.resize(im, (128,128))\n",
    "    if des_type == \"HOG\":\n",
    "        fd, _ = hog(im, orientations, pixels_per_cell, cells_per_block, visualise = True, transform_sqrt=True)\n",
    "    print(fd.shape)\n",
    "    fd_name = os.path.split(im_path)[1].split(\".\")[0] + \".feat\"\n",
    "    fd_path = os.path.join(pos_feat_ph, fd_name)\n",
    "    joblib.dump(fd, fd_path) #dumps feature detection in the save path\n",
    "print(\"Positive features saved in {}\".format(pos_feat_ph))"
   ]
  },
  {
   "cell_type": "code",
   "execution_count": null,
   "metadata": {},
   "outputs": [],
   "source": [
    "print(\"Calculating the descriptors for the negative samples and saving them\")\n",
    "for im_path in glob.glob(os.path.join(neg_im_path, \"*\")):\n",
    "    im = cv2.imread(im_path, cv2.IMREAD_GRAYSCALE)\n",
    "    im = cv2.resize(im, (128,128))\n",
    "    if des_type == \"HOG\":\n",
    "        fd, _ = hog(im,  orientations, pixels_per_cell, cells_per_block, visualise = True, transform_sqrt=True)\n",
    "    fd_name = os.path.split(im_path)[1].split(\".\")[0] + \".feat\"\n",
    "    fd_path = os.path.join(neg_feat_ph, fd_name)\n",
    "    joblib.dump(fd, fd_path)\n",
    "print(\"Negative features saved in {}\".format(neg_feat_ph))"
   ]
  },
  {
   "cell_type": "code",
   "execution_count": null,
   "metadata": {},
   "outputs": [],
   "source": [
    "print(\"Completed calculating features from training images\")"
   ]
  },
  {
   "cell_type": "markdown",
   "metadata": {},
   "source": [
    "# Train Classifier\n",
    "## Training with linear SVM\n"
   ]
  },
  {
   "cell_type": "code",
   "execution_count": null,
   "metadata": {},
   "outputs": [],
   "source": [
    "# Import the required modules\n",
    "from skimage.feature import local_binary_pattern\n",
    "from sklearn.svm import LinearSVC\n",
    "from sklearn.linear_model import LogisticRegression\n",
    "from sklearn.externals import joblib\n",
    "from sklearn.decomposition import PCA\n",
    "import glob\n",
    "import os\n",
    "import pandas as pd\n",
    "import numpy as np\n",
    "\n",
    "path = r'\\training_mmse_pentagons' # change to dir of testing path\n",
    "pos_im_path = os.path.join(path, 'pos_pent')\n",
    "neg_im_path = os.path.join(path, 'neg_pent')\n",
    "\n",
    "pos_feat_ph = os.path.join(path, \"pos_feat_ph\")\n",
    "neg_feat_ph = os.path.join(path, \"neg_feat_ph\")\n",
    "\n",
    "model_path =  os.path.join(path, \"models\", \"svm.model\") # where to save the model\n",
    "\n",
    "pos_feat_path =  pos_feat_ph\n",
    "neg_feat_path =  neg_feat_ph\n",
    "\n",
    "# Classifiers supported\n",
    "clf_type = \"LIN_SVM\"\n",
    "\n",
    "fds = []\n",
    "labels = []\n",
    "# Load the positive features\n",
    "for feat_path in glob.glob(os.path.join(pos_feat_path,\"*.feat\")):\n",
    "    fd = joblib.load(feat_path)\n",
    "    fds.append(fd)\n",
    "    labels.append(1)\n",
    "\n",
    "# Load the negative features\n",
    "for feat_path in glob.glob(os.path.join(neg_feat_path,\"*.feat\")):\n",
    "    fd = joblib.load(feat_path)\n",
    "    fds.append(fd)\n",
    "    labels.append(0)\n",
    "\n",
    "if clf_type is \"LIN_SVM\":\n",
    "    clf = LinearSVC()\n",
    "    print(\"Training a Linear SVM Classifier\")\n",
    "    print(len(fds), len(labels))\n",
    "    clf.fit(fds, labels)\n",
    "    # If feature directories don't exist, create them\n",
    "    if not os.path.isdir(os.path.split(model_path)[0]):\n",
    "        os.makedirs(os.path.split(model_path)[0])\n",
    "    joblib.dump(clf, model_path)\n",
    "    print(\"Classifier saved to {}\".format(model_path))\n"
   ]
  }
 ],
 "metadata": {
  "kernelspec": {
   "display_name": "Python 3",
   "language": "python",
   "name": "python3"
  },
  "language_info": {
   "codemirror_mode": {
    "name": "ipython",
    "version": 3
   },
   "file_extension": ".py",
   "mimetype": "text/x-python",
   "name": "python",
   "nbconvert_exporter": "python",
   "pygments_lexer": "ipython3",
   "version": "3.6.4"
  }
 },
 "nbformat": 4,
 "nbformat_minor": 2
}
