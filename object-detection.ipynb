{
 "cells": [
  {
   "cell_type": "markdown",
   "metadata": {},
   "source": [
    "# Object Detection\n",
    "## Finding the Pentagon Figure on the page\n",
    "### Using Python\n",
    "\n",
    "Creating and Training a model to find the Pentagon figure on the page of the MMSE Document. This goes through a bit of the code. The feature and model creation only need to be ran once. Near the bottom there is a classifier testing code run through.\n"
   ]
  },
  {
   "cell_type": "markdown",
   "metadata": {},
   "source": [
    "> Uses methods and modules with the SKlearn and SKImage libraries in python \n",
    ">\n",
    "> --- [scikit-learn 0.19.1. (2017, October). Simple and efficient tools for data mining and data analysis](http://scikit-learn.org/stable/index.html)"
   ]
  },
  {
   "cell_type": "code",
   "execution_count": 2,
   "metadata": {
    "collapsed": true
   },
   "outputs": [],
   "source": [
    "# imports\n",
    "# Import the functions to calculate feature descriptors\n",
    "from skimage.feature import local_binary_pattern\n",
    "from skimage.feature import hog\n",
    "from skimage.io import imread\n",
    "from sklearn.externals import joblib\n",
    "import cv2\n",
    "# To read file names\n",
    "import glob\n",
    "import os\n",
    "import numpy as np\n",
    "\n",
    "# Import the required sklearn modules for models\n",
    "from sklearn.linear_model import LogisticRegression\n",
    "from sklearn.decomposition import PCA\n",
    "from sklearn.neighbors import KNeighborsClassifier\n",
    "from sklearn.svm import LinearSVC\n",
    "from sklearn.svm import SVC\n",
    "from sklearn.ensemble import RandomForestClassifier, AdaBoostClassifier\n",
    "from sklearn.tree import DecisionTreeClassifier\n",
    "from sklearn.gaussian_process import GaussianProcessClassifier\n",
    "from sklearn.gaussian_process.kernels import RBF\n",
    "from sklearn.neural_network import MLPClassifier\n",
    "from sklearn.naive_bayes import GaussianNB\n",
    "from sklearn.discriminant_analysis import QuadraticDiscriminantAnalysis\n",
    "import pandas as pd"
   ]
  },
  {
   "cell_type": "markdown",
   "metadata": {},
   "source": [
    "Must create a correct file structure to save the features for training method"
   ]
  },
  {
   "cell_type": "code",
   "execution_count": 3,
   "metadata": {
    "collapsed": true
   },
   "outputs": [],
   "source": [
    "# file structure for feature ies\n",
    "path = r'training_mmse_pentagons' #change to the base dir for files\n",
    "pos_im_path = os.path.join(path, 'pos_pent')\n",
    "neg_im_path = os.path.join(path, 'neg_pent')\n",
    "pos_feat_ph = os.path.join(path, \"pos_feat_ph\")\n",
    "neg_feat_ph = os.path.join(path, \"neg_feat_ph\")"
   ]
  },
  {
   "cell_type": "markdown",
   "metadata": {},
   "source": [
    "In using the HOG detection paramaters must be set\n",
    "\n",
    "\n",
    "Parameters:\t\n",
    "image : (M, N[, C]) ndarray\n",
    "    Input image.\n",
    "\n",
    "orientations : int, optional\n",
    "    Number of orientation bins.\n",
    "\n",
    "pixels_per_cell : 2-tuple (int, int), optional\n",
    "    Size (in pixels) of a cell.\n",
    "\n",
    "cells_per_block : 2-tuple (int, int), optional\n",
    "    Number of cells in each block.\n",
    "\n",
    "block_norm : str {‘L1’, ‘L1-sqrt’, ‘L2’, ‘L2-Hys’}, optional\n",
    "    Block normalization method:"
   ]
  },
  {
   "cell_type": "code",
   "execution_count": 4,
   "metadata": {
    "collapsed": true
   },
   "outputs": [],
   "source": [
    "#parameters for HOG\n",
    "#reference: http://scikit-image.org/docs/dev/auto_examples/features_detection/plot_hog.html\n",
    "orientations = 9\n",
    "pixels_per_cell = (8, 8)\n",
    "cells_per_block = (3, 3)\n",
    "des_type = \"HOG\""
   ]
  },
  {
   "cell_type": "markdown",
   "metadata": {},
   "source": [
    "Next create the directory to save the features in"
   ]
  },
  {
   "cell_type": "code",
   "execution_count": 5,
   "metadata": {
    "collapsed": true
   },
   "outputs": [],
   "source": [
    " # If feature directories don't exist, create them\n",
    "if not os.path.isdir(pos_feat_ph):\n",
    "    os.makedirs(pos_feat_ph)\n",
    "\n",
    "# If feature directories don't exist, create them\n",
    "if not os.path.isdir(neg_feat_ph):\n",
    "    os.makedirs(neg_feat_ph)"
   ]
  },
  {
   "cell_type": "markdown",
   "metadata": {},
   "source": [
    "Positive image feature input for the MMSE pentagon example. These are the images for classification, and they can be filled with different images."
   ]
  },
  {
   "cell_type": "code",
   "execution_count": 6,
   "metadata": {},
   "outputs": [
    {
     "data": {
      "image/png": "[encoded data removed]",
      "text/plain": [
       "<IPython.core.display.Image object>"
      ]
     },
     "execution_count": 6,
     "metadata": {},
     "output_type": "execute_result"
    }
   ],
   "source": [
    "from IPython.display import Image\n",
    "Image(filename=r'training_mmse_pentagons\\pos_pent\\pos_2.png') "
   ]
  },
  {
   "cell_type": "markdown",
   "metadata": {},
   "source": [
    "Negative image feature input for MMSE example"
   ]
  },
  {
   "cell_type": "code",
   "execution_count": 7,
   "metadata": {},
   "outputs": [
    {
     "data": {
      "image/png": "[encoded data removed]",
      "text/plain": [
       "<IPython.core.display.Image object>"
      ]
     },
     "execution_count": 7,
     "metadata": {},
     "output_type": "execute_result"
    }
   ],
   "source": [
    "from IPython.display import Image\n",
    "Image(filename=r'training_mmse_pentagons\\neg_pent\\neg_3.png') "
   ]
  },
  {
   "cell_type": "markdown",
   "metadata": {},
   "source": [
    "For each image path in the positive directory we first read it into the im variable and convert it to graysale\n",
    "Then it is resized to 128x128 image\n",
    "Finally create the HOG descriptor for the image. A 1D (flattened) array is returned.\n",
    "\n",
    "Only needs to be run once to create the features"
   ]
  },
  {
   "cell_type": "code",
   "execution_count": 8,
   "metadata": {},
   "outputs": [
    {
     "name": "stdout",
     "output_type": "stream",
     "text": [
      "Calculating the descriptors for the positive samples and saving them\n"
     ]
    },
    {
     "name": "stderr",
     "output_type": "stream",
     "text": [
      "c:\\users\\kinectprocessing\\appdata\\local\\programs\\python\\python35\\lib\\site-packages\\skimage\\feature\\_hog.py:119: skimage_deprecation: Default value of `block_norm`==`L1` is deprecated and will be changed to `L2-Hys` in v0.15\n",
      "  'be changed to `L2-Hys` in v0.15', skimage_deprecation)\n"
     ]
    },
    {
     "name": "stdout",
     "output_type": "stream",
     "text": [
      "Processed 1057 images for positive features\n",
      "Positive features saved in training_mmse_pentagons\\pos_feat_ph\n"
     ]
    }
   ],
   "source": [
    "#may take a couple minutes to run\n",
    "\n",
    "print(\"Calculating the descriptors for the positive samples and saving them\")\n",
    "file_count = 0\n",
    "for im_path in glob.glob(os.path.join(pos_im_path, \"*\")):\n",
    "    \n",
    "    im = cv2.imread(im_path, cv2.IMREAD_GRAYSCALE) #Reads image in and convers to grayscale\n",
    "    im = cv2.resize(im, (128,128))\n",
    "    if des_type == \"HOG\":\n",
    "        fd, _ = hog(im, orientations, pixels_per_cell, cells_per_block, visualise = True, transform_sqrt=True)\n",
    "        \n",
    "    fd_name = os.path.split(im_path)[1].split(\".\")[0] + \".feat\"\n",
    "    fd_path = os.path.join(pos_feat_ph, fd_name)\n",
    "    joblib.dump(fd, fd_path) #dumps feature detection in the save path\n",
    "    file_count += 1\n",
    "print(\"Processed {} images for positive features\".format(file_count))\n",
    "print(\"Positive features saved in {}\".format(pos_feat_ph))"
   ]
  },
  {
   "cell_type": "code",
   "execution_count": 9,
   "metadata": {},
   "outputs": [
    {
     "name": "stdout",
     "output_type": "stream",
     "text": [
      "Calculating the descriptors for the negative samples and saving them\n"
     ]
    },
    {
     "name": "stderr",
     "output_type": "stream",
     "text": [
      "c:\\users\\kinectprocessing\\appdata\\local\\programs\\python\\python35\\lib\\site-packages\\skimage\\feature\\_hog.py:119: skimage_deprecation: Default value of `block_norm`==`L1` is deprecated and will be changed to `L2-Hys` in v0.15\n",
      "  'be changed to `L2-Hys` in v0.15', skimage_deprecation)\n"
     ]
    },
    {
     "name": "stdout",
     "output_type": "stream",
     "text": [
      "Processed 1007 images for negative features\n",
      "Negative features saved in training_mmse_pentagons\\neg_feat_ph\n"
     ]
    }
   ],
   "source": [
    "#may take a couple minutes to run\n",
    "\n",
    "print(\"Calculating the descriptors for the negative samples and saving them\")\n",
    "file_count = 0\n",
    "for im_path in glob.glob(os.path.join(neg_im_path, \"*\")):\n",
    "    im = cv2.imread(im_path, cv2.IMREAD_GRAYSCALE)\n",
    "    im = cv2.resize(im, (128,128))\n",
    "    if des_type == \"HOG\":\n",
    "        fd, _ = hog(im,  orientations, pixels_per_cell, cells_per_block, visualise = True, transform_sqrt=True)\n",
    "    fd_name = os.path.split(im_path)[1].split(\".\")[0] + \".feat\"\n",
    "    fd_path = os.path.join(neg_feat_ph, fd_name)\n",
    "    joblib.dump(fd, fd_path)\n",
    "    file_count += 1\n",
    "print(\"Processed {} images for negative features\".format(file_count))\n",
    "print(\"Negative features saved in {}\".format(neg_feat_ph))"
   ]
  },
  {
   "cell_type": "code",
   "execution_count": 10,
   "metadata": {},
   "outputs": [
    {
     "name": "stdout",
     "output_type": "stream",
     "text": [
      "Completed calculating features from training images\n"
     ]
    }
   ],
   "source": [
    "print(\"Completed calculating features from training images\")"
   ]
  },
  {
   "cell_type": "markdown",
   "metadata": {},
   "source": [
    "# Train Classifier\n",
    "## Training with linear SVM\n",
    "\n",
    "This trains the classifier, only needs to run once in order to create the model."
   ]
  },
  {
   "cell_type": "code",
   "execution_count": 11,
   "metadata": {},
   "outputs": [
    {
     "name": "stdout",
     "output_type": "stream",
     "text": [
      "Training a Linear SVM Classifier\n",
      "2064 2064\n",
      "Classifier saved to training_mmse_pentagons\\models\\svm.model\n"
     ]
    }
   ],
   "source": [
    "path = r'training_mmse_pentagons' # change to dir of testing path\n",
    "pos_im_path = os.path.join(path, 'pos_pent')\n",
    "neg_im_path = os.path.join(path, 'neg_pent')\n",
    "\n",
    "pos_feat_ph = os.path.join(path, \"pos_feat_ph\")\n",
    "neg_feat_ph = os.path.join(path, \"neg_feat_ph\")\n",
    "\n",
    "model_path =  os.path.join(path, \"models\", \"svm.model\") # where to save the model\n",
    "\n",
    "pos_feat_path =  pos_feat_ph\n",
    "neg_feat_path =  neg_feat_ph\n",
    "\n",
    "# Classifiers supported\n",
    "clf_type = \"LIN_SVM\"\n",
    "\n",
    "fds = []\n",
    "labels = []\n",
    "# Load the positive features\n",
    "for feat_path in glob.glob(os.path.join(pos_feat_path,\"*.feat\")):\n",
    "    fd = joblib.load(feat_path)\n",
    "    fds.append(fd)\n",
    "    labels.append(1)\n",
    "\n",
    "# Load the negative features\n",
    "for feat_path in glob.glob(os.path.join(neg_feat_path,\"*.feat\")):\n",
    "    fd = joblib.load(feat_path)\n",
    "    fds.append(fd)\n",
    "    labels.append(0)\n",
    "\n",
    "if clf_type is \"LIN_SVM\":\n",
    "    clf = LinearSVC()\n",
    "    print(\"Training a Linear SVM Classifier\")\n",
    "    print(len(fds), len(labels))\n",
    "    clf.fit(fds, labels)\n",
    "    # If feature directories don't exist, create them\n",
    "    if not os.path.isdir(os.path.split(model_path)[0]):\n",
    "        os.makedirs(os.path.split(model_path)[0])\n",
    "    #joblib.dump(clf, model_path)\n",
    "    print(\"Classifier saved to {}\".format(model_path))\n",
    "\n",
    "\n"
   ]
  },
  {
   "cell_type": "markdown",
   "metadata": {},
   "source": [
    "# Testing Classifiers\n",
    "\n",
    "Can use this to test different classifier models with the features. "
   ]
  },
  {
   "cell_type": "code",
   "execution_count": null,
   "metadata": {
    "collapsed": true
   },
   "outputs": [],
   "source": [
    "def test_classifiers(data, lables, clf):\n",
    "    \"\"\"\n",
    "    create training objects\n",
    "    \"\"\"\n",
    "    data = np.array(data)\n",
    "    print(\"Total object(n) = \" + str(len(data)))\n",
    "    is_train = np.random.uniform(0, 1, len(data)) <= 0.8 # split randomly: train with 80%,other 20% for testing classifier\n",
    "    y = np.where(np.array(labels)== 1, 1, 0)\n",
    "\n",
    "    #set training and test data\n",
    "    train_x, train_y = data[is_train], y[is_train]\n",
    "    test_x, test_y = data[is_train==False], y[is_train==False]\n",
    "\n",
    "\n",
    "    pca = PCA(n_components=5, svd_solver='randomized')\n",
    "    print(\"Trainng set n = \" + str(len(data[is_train])))\n",
    "    print(\"Testing set n = \" + str(len(data[is_train==False])))\n",
    "    train_x = pca.fit_transform(train_x)\n",
    "    test_x = pca.transform(test_x)\n",
    "    clf.fit(train_x, train_y)\n",
    "    df = pd.crosstab(test_y, clf.predict(test_x), rownames=[\"Actual\"], colnames=[\"Predicted\"])\n",
    "    score = clf.score(test_x, test_y)\n",
    "    print(df)\n",
    "    print(\"Score: \" + str(score))\n",
    "    print(\"\")"
   ]
  },
  {
   "cell_type": "code",
   "execution_count": null,
   "metadata": {},
   "outputs": [
    {
     "name": "stdout",
     "output_type": "stream",
     "text": [
      "Testing Linear SVM Classifier\n",
      "Classifier saved to training_mmse_pentagons\\models\\LIN_SVM.model\n",
      "Total object(n) = 2064\n",
      "Trainng set n = 1654\n",
      "Testing set n = 410\n",
      "Predicted    0    1\n",
      "Actual             \n",
      "0          214    4\n",
      "1            9  183\n",
      "Score: 0.9682926829268292\n",
      "\n",
      "Testing KNN Classifier\n",
      "Classifier saved to training_mmse_pentagons\\models\\KNN.model\n",
      "Total object(n) = 2064\n",
      "Trainng set n = 1673\n",
      "Testing set n = 391\n",
      "Predicted    0    1\n",
      "Actual             \n",
      "0          194    1\n",
      "1           11  185\n",
      "Score: 0.969309462915601\n",
      "\n",
      "Testing Random Forest Classifier\n",
      "Classifier saved to training_mmse_pentagons\\models\\RandomForest.model\n",
      "Total object(n) = 2064\n",
      "Trainng set n = 1670\n",
      "Testing set n = 394\n",
      "Predicted    0    1\n",
      "Actual             \n",
      "0          194    4\n",
      "1            9  187\n",
      "Score: 0.9670050761421319\n",
      "\n",
      "Testing Decision Tree Classifier\n",
      "Classifier saved to training_mmse_pentagons\\models\\DecisionTreeCLassifier.model\n",
      "Total object(n) = 2064\n",
      "Trainng set n = 1622\n",
      "Testing set n = 442\n",
      "Predicted    0    1\n",
      "Actual             \n",
      "0          208    7\n",
      "1            8  219\n",
      "Score: 0.9660633484162896\n",
      "\n",
      "Testing Gaussian Process Classifier\n",
      "Classifier saved to training_mmse_pentagons\\models\\GaussianProcessClassifier.model\n",
      "Total object(n) = 2064\n",
      "Trainng set n = 1638\n",
      "Testing set n = 426\n",
      "Predicted    0    1\n",
      "Actual             \n",
      "0          201    2\n",
      "1           12  211\n",
      "Score: 0.9671361502347418\n",
      "\n",
      "Testing MLPClassifier Classifier\n",
      "Classifier saved to training_mmse_pentagons\\models\\MLPClassifier.model\n",
      "Total object(n) = 2064\n",
      "Trainng set n = 1664\n",
      "Testing set n = 400\n",
      "Predicted    0    1\n",
      "Actual             \n",
      "0          187    5\n",
      "1            6  202\n",
      "Score: 0.9725\n",
      "\n",
      "Testing SVC Classifier\n",
      "Classifier saved to training_mmse_pentagons\\models\\SVC.model\n",
      "Total object(n) = 2064\n",
      "Trainng set n = 1653\n",
      "Testing set n = 411\n",
      "Predicted    0    1\n",
      "Actual             \n",
      "0          200    1\n",
      "1           12  198\n",
      "Score: 0.9683698296836983\n",
      "\n",
      "Testing AdaBoost Classifier\n"
     ]
    }
   ],
   "source": [
    "path = r'training_mmse_pentagons'\n",
    "pos_im_path = os.path.join(path, 'pos_pent')\n",
    "neg_im_path = os.path.join(path, 'neg_pent')\n",
    "\n",
    "pos_feat_ph = os.path.join(path, \"pos_feat_ph\")\n",
    "neg_feat_ph = os.path.join(path, \"neg_feat_ph\")\n",
    "\n",
    "def make_model(model_type):\n",
    "    model_name = model_type + \".model\"\n",
    "    model_path =  os.path.join(path, \"models\", model_name)\n",
    "    return model_path\n",
    "\n",
    "pos_feat_path =  pos_feat_ph\n",
    "neg_feat_path =  neg_feat_ph\n",
    "\n",
    "# Classifiers supported\n",
    "\n",
    "\n",
    "fds = []\n",
    "labels = []\n",
    "# Load the positive features\n",
    "for feat_path in glob.glob(os.path.join(pos_feat_path,\"*.feat\")):\n",
    "    fd = joblib.load(feat_path)\n",
    "    fds.append(fd)\n",
    "    labels.append(1)\n",
    "\n",
    "# Load the negative features\n",
    "for feat_path in glob.glob(os.path.join(neg_feat_path,\"*.feat\")):\n",
    "    fd = joblib.load(feat_path)\n",
    "    fds.append(fd)\n",
    "    labels.append(0)\n",
    "\n",
    "    \n",
    "## TO actually create the models, remove the comments on joblib.dump    \n",
    "clf_type = \"LIN_SVM\"\n",
    "if clf_type is \"LIN_SVM\":\n",
    "    clf = LinearSVC()\n",
    "    print(\"Testing Linear SVM Classifier\")\n",
    "    clf.fit(fds, labels)\n",
    "    # If feature directories don't exist, create them\n",
    "    model_path = make_model(clf_type)\n",
    "    #joblib.dump(clf, model_path)\n",
    "    print(\"Classifier saved to {}\".format(model_path))\n",
    "    \n",
    "    test_classifiers(fds, labels, clf)\n",
    "    \n",
    "\n",
    "clf_type = \"KNN\"\n",
    "if clf_type is \"KNN\":\n",
    "    clf = KNeighborsClassifier()\n",
    "    print(\"Testing KNN Classifier\")\n",
    "    clf.fit(fds, labels)\n",
    "    # If feature directories don't exist, create them\n",
    "    model_path = make_model(clf_type)\n",
    "    #joblib.dump(clf, model_path)\n",
    "    print(\"Classifier saved to {}\".format(model_path))\n",
    "    \n",
    "    test_classifiers(fds, labels, clf)\n",
    "\n",
    "clf_type = \"RandomForest\"\n",
    "if clf_type is \"RandomForest\":\n",
    "    clf = RandomForestClassifier(n_jobs=2)\n",
    "    print(\"Testing Random Forest Classifier\")\n",
    "    clf.fit(fds, labels)\n",
    "    # If feature directories don't exist, create them\n",
    "    model_path = make_model(clf_type)\n",
    "    #joblib.dump(clf, model_path)\n",
    "    print(\"Classifier saved to {}\".format(model_path))\n",
    "    \n",
    "    test_classifiers(fds, labels, clf)\n",
    "\n",
    "clf_type = \"DecisionTreeCLassifier\"\n",
    "if clf_type is \"DecisionTreeCLassifier\":\n",
    "    clf = DecisionTreeClassifier(random_state=0)\n",
    "    print(\"Testing Decision Tree Classifier\")\n",
    "    clf.fit(fds, labels)\n",
    "    # If feature directories don't exist, create them\n",
    "    model_path = make_model(clf_type)\n",
    "    #joblib.dump(clf, model_path)\n",
    "    print(\"Classifier saved to {}\".format(model_path))\n",
    "    \n",
    "    test_classifiers(fds, labels, clf)\n",
    "\n",
    "    \n",
    "clf_type = \"GaussianProcessClassifier\"\n",
    "if clf_type is \"GaussianProcessClassifier\":\n",
    "    #kernel = 1.0 * RBF([1.0, 1.0])  # for GPC\n",
    "    clf = GaussianProcessClassifier()\n",
    "    print(\"Testing Gaussian Process Classifier\")\n",
    "    clf.fit(fds, labels)\n",
    "    # If feature directories don't exist, create them\n",
    "    model_path = make_model(clf_type)\n",
    "    #joblib.dump(clf, model_path)\n",
    "    print(\"Classifier saved to {}\".format(model_path))\n",
    "    \n",
    "    test_classifiers(fds, labels, clf)\n",
    "\n",
    "\n",
    "clf_type = \"MLPClassifier\"\n",
    "if clf_type is \"MLPClassifier\":\n",
    "    #kernel = 1.0 * RBF([1.0, 1.0])  # for GPC\n",
    "    clf = MLPClassifier(alpha=1)\n",
    "    print(\"Testing MLPClassifier Classifier\")\n",
    "    clf.fit(fds, labels)\n",
    "    # If feature directories don't exist, create them\n",
    "    model_path = make_model(clf_type)\n",
    "    #joblib.dump(clf, model_path)\n",
    "    print(\"Classifier saved to {}\".format(model_path))\n",
    "    \n",
    "    test_classifiers(fds, labels, clf)\n",
    "\n",
    "\n",
    "clf_type = \"SVC\"\n",
    "if clf_type is \"SVC\":\n",
    "    #kernel = 1.0 * RBF([1.0, 1.0])  # for GPC\n",
    "    clf = SVC()\n",
    "    print(\"Testing SVC Classifier\")\n",
    "    clf.fit(fds, labels)\n",
    "    # If feature directories don't exist, create them\n",
    "    model_path = make_model(clf_type)\n",
    "    #joblib.dump(clf, model_path)\n",
    "    print(\"Classifier saved to {}\".format(model_path))\n",
    "    \n",
    "    test_classifiers(fds, labels, clf)\n",
    "\n",
    "\n",
    "clf_type = \"AdaBoost\"\n",
    "if clf_type is \"AdaBoost\":\n",
    "    #kernel = 1.0 * RBF([1.0, 1.0])  # for GPC\n",
    "    clf = AdaBoostClassifier()\n",
    "    print(\"Testing AdaBoost Classifier\")\n",
    "    clf.fit(fds, labels)\n",
    "    # If feature directories don't exist, create them\n",
    "    model_path = make_model(clf_type)\n",
    "    #joblib.dump(clf, model_path)\n",
    "    print(\"Classifier saved to {}\".format(model_path))\n",
    "    \n",
    "    test_classifiers(fds, labels, clf)\n",
    "\n",
    "\n",
    "clf_type = \"GaussianNB\"\n",
    "if clf_type is \"GaussianNB\":\n",
    "    #kernel = 1.0 * RBF([1.0, 1.0])  # for GPC\n",
    "    clf = GaussianNB()\n",
    "    print(\"Testing GaussianNB Classifier\")\n",
    "    clf.fit(fds, labels)\n",
    "    # If feature directories don't exist, create them\n",
    "    model_path = make_model(clf_type)\n",
    "    #joblib.dump(clf, model_path)\n",
    "    print(\"Classifier saved to {}\".format(model_path))\n",
    "    \n",
    "    test_classifiers(fds, labels, clf)\n",
    "\n",
    "\n",
    "clf_type = \"QuadraticDiscriminantAnalysis\"\n",
    "if clf_type is \"QuadraticDiscriminantAnalysis\":\n",
    "    #kernel = 1.0 * RBF([1.0, 1.0])  # for GPC\n",
    "    clf = QuadraticDiscriminantAnalysis()\n",
    "    print(\"Testing QuadraticDiscriminantAnalysis Classifier\")\n",
    "    clf.fit(fds, labels)\n",
    "    # If feature directories don't exist, create them\n",
    "    model_path = make_model(clf_type)\n",
    "    #joblib.dump(clf, model_path)\n",
    "    print(\"Classifier saved to {}\".format(model_path))\n",
    "    \n",
    "    test_classifiers(fds, labels, clf)\n",
    "\n"
   ]
  },
  {
   "cell_type": "markdown",
   "metadata": {},
   "source": [
    "## EXAMPLE WITH SAMPLE MMSE PAGES\n"
   ]
  },
  {
   "cell_type": "code",
   "execution_count": null,
   "metadata": {
    "collapsed": true
   },
   "outputs": [],
   "source": [
    "def detection(img, model_path):\n",
    "    '''\n",
    "    The detections methond using the HOG SVM algorithm\n",
    "    '''\n",
    "    clf = joblib.load(model_path) #prediciton method using SVM\n",
    "    kernel = np.ones((5,5),np.uint8)\n",
    "    opening = cv2.morphologyEx(img, cv2.MORPH_OPEN, kernel)\n",
    "    im_reshape = cv2.resize(opening, (128,128)) # reduces noise on image\n",
    "    fd, _ = hog(im_reshape,9, (8,8), (3,3), visualise = True, transform_sqrt=True)           \n",
    "    pred = clf.predict(fd)\n",
    "    #print(pred)\n",
    "    #print(clf.decision_function(fd))\n",
    "    #if pred == 1:\n",
    "    #    return clf.decision_function(fd)\n",
    "    #else:\n",
    "    #    return 0\n",
    "    return pred\n",
    "    "
   ]
  },
  {
   "cell_type": "markdown",
   "metadata": {},
   "source": [
    "## Walk the path and pull a random MMSE scanned page\n",
    "Print filename and show image"
   ]
  },
  {
   "cell_type": "code",
   "execution_count": null,
   "metadata": {},
   "outputs": [],
   "source": [
    "from skimage.io import imread\n",
    "from skimage.feature import hog\n",
    "from sklearn.externals import joblib\n",
    "import cv2, os, time, math, itertools, random, xlwt\n",
    "import numpy as np\n",
    "import matplotlib.pyplot as plt\n",
    "from skimage import img_as_ubyte\n",
    "import warnings\n",
    "warnings.filterwarnings(\"ignore\", category=DeprecationWarning) \n",
    "\n",
    "%matplotlib inline\n",
    "testing_path = r'sample_pents'\n",
    "model_path =  os.path.join(path, \"models\", \"svm.model\")\n",
    "file = random.choice([x for x in os.listdir(testing_path) if os.path.isfile(os.path.join(testing_path, x))])\n",
    "print(file)\n",
    "test_file = os.path.join(testing_path, file)\n",
    "im = cv2.imread(test_file, cv2.IMREAD_GRAYSCALE)\n",
    "fig=plt.figure(figsize=(9, 8), dpi= 80, facecolor='w', edgecolor='k')\n",
    "plt.axis('off')\n",
    "plt.imshow(im,cmap='gray')\n",
    "plt.show()"
   ]
  },
  {
   "cell_type": "markdown",
   "metadata": {},
   "source": [
    "## Find the all the contours in the image using the cv2.find contours method and bound\n",
    "http://docs.opencv.org/trunk/d3/dc0/group__imgproc__shape.html#ga17ed9f5d79ae97bd4c7cf18403e1689a"
   ]
  },
  {
   "cell_type": "code",
   "execution_count": null,
   "metadata": {},
   "outputs": [],
   "source": [
    "clone = im.copy() #clone image\n",
    "color_im = cv2.cvtColor(clone,cv2.COLOR_GRAY2BGR) \n",
    "#preprocessing of image applying gaussianblur and thresholding OTSU\n",
    "blur = cv2.GaussianBlur(clone,(5,5),0) \n",
    "ret3,th3 = cv2.threshold(blur,0,255,cv2.THRESH_BINARY+cv2.THRESH_OTSU)\n",
    "\n",
    "#preprocessing of image applying canny edge detection and dialtion to get all contours\n",
    "edges = cv2.Canny(th3,0,255,apertureSize = 5) # Canny image \n",
    "kernel = cv2.getStructuringElement(cv2.MORPH_CROSS, (3, 3)) # create the kernle\n",
    "edges = cv2.dilate(edges, kernel, iterations=5)\n",
    "\n",
    "im2, contours, hierarchy = cv2.findContours(edges,cv2.RETR_TREE,cv2.CHAIN_APPROX_NONE) # find each contour\n",
    "cv2.drawContours(color_im, contours, -1, (255,255,0), 3) #draw all contours\n",
    "\n",
    "img = cv2.cvtColor(clone,cv2.COLOR_GRAY2BGR) \n",
    "\n",
    "for cnt in contours:\n",
    "        # get the perimeter circularity of the contours\n",
    "        hull = cv2.convexHull(cnt)\n",
    "        area = cv2.contourArea(hull)\n",
    "        perimeter = cv2.arcLength(hull,True)\n",
    "        approx = cv2.approxPolyDP(cnt,0.01*cv2.arcLength(cnt,True),True)\n",
    "        #cv2.drawContours(clone, cnt, -1, (0,255,255), 3)\n",
    "        if perimeter != 0:\n",
    "            x,y,w,h = cv2.boundingRect(cnt)\n",
    "            cv2.rectangle(img,(x,y),(x+w,y+h),(0,255,0),2)   \n",
    "#img = cv2.cvtColor(clone, cv2.COLOR_BGR2RGB)\n",
    "fig=plt.figure(figsize=(9, 8), dpi= 80, facecolor='w', edgecolor='k')\n",
    "plt.imshow(img)\n",
    "plt.axis('off')\n",
    "plt.show()"
   ]
  },
  {
   "cell_type": "code",
   "execution_count": null,
   "metadata": {},
   "outputs": [],
   "source": [
    "detection_threshold = 1.0 # change this to change accepted detection High is above 1.5... Low is 0.5\n",
    "\n",
    "\n",
    "models = r'training_mmse_pentagons\\models'\n",
    "model_list = os.listdir(models)\n",
    "for model in model_list:\n",
    "    model_path = os.path.join(models, model)\n",
    "    print(model)\n",
    "    \n",
    "    img = cv2.cvtColor(clone,cv2.COLOR_GRAY2BGR) \n",
    "    found_dets = []\n",
    "\n",
    "    for cnt in contours:\n",
    "        # get the perimeter circularity of the contours\n",
    "        hull = cv2.convexHull(cnt)\n",
    "        area = cv2.contourArea(hull)\n",
    "        perimeter = cv2.arcLength(hull,True)\n",
    "        approx = cv2.approxPolyDP(cnt,0.01*cv2.arcLength(cnt,True),True)\n",
    "        #cv2.drawContours(clone, cnt, -1, (0,255,255), 3)\n",
    "        if perimeter != 0:\n",
    "            x,y,w,h = cv2.boundingRect(cnt)\n",
    "            cv2.rectangle(img,(x,y),(x+w,y+h),(0,255,0),2)\n",
    "            if (h*w) > 200: # minimum area of the contour bounding box\n",
    "                feature = clone[y:y + h, x:x + w]\n",
    "                try:\n",
    "                    cd = detection(feature, model_path)\n",
    "                    print('detection at', x,y, 'detection score:', cd)\n",
    "                    if (cd==1): #threshold for acceptance for HOG\n",
    "                        cv2.rectangle(img,(x,y),(x+w,y+h),(255,0,0),2)\n",
    "                        found_dets.append((x, y, cd, w, h))\n",
    "                except:\n",
    "                    pass\n",
    "    #img = cv2.cvtColor(clone, cv2.COLOR_BGR2RGB)\n",
    "    plt.imshow(img)\n",
    "    plt.axis('off')\n",
    "    plt.show()\n"
   ]
  }
 ],
 "metadata": {
  "kernelspec": {
   "display_name": "Python 3",
   "language": "python",
   "name": "python3"
  },
  "language_info": {
   "codemirror_mode": {
    "name": "ipython",
    "version": 3
   },
   "file_extension": ".py",
   "mimetype": "text/x-python",
   "name": "python",
   "nbconvert_exporter": "python",
   "pygments_lexer": "ipython3",
   "version": "3.5.1"
  }
 },
 "nbformat": 4,
 "nbformat_minor": 2
}
